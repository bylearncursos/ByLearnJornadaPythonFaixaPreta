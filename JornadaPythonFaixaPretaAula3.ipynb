{
  "nbformat": 4,
  "nbformat_minor": 0,
  "metadata": {
    "colab": {
      "name": "JornadaPythonFaixaPretaAula3.ipynb",
      "provenance": []
    },
    "kernelspec": {
      "name": "python3",
      "display_name": "Python 3"
    }
  },
  "cells": [
    {
      "cell_type": "markdown",
      "metadata": {
        "id": "qYLsAtcAcpcB"
      },
      "source": [
        "# Condicionais\n",
        "\n",
        "Principal forma de atribuir uma lógica ao seu código.  \n",
        "\n",
        "Basicamente é uma tomada de decisão caso a condição seja verdadeira.\n",
        "\n",
        "Ex:\n",
        "\n",
        "- Se o dia estiver quente:\n",
        "  - Vou tomar um sorvete\n",
        "  - Vou para a praia\n",
        "\n",
        "- Do contrário (se não):\n",
        "  - Comer um chocolate\n",
        "  - Maratonar Netflix"
      ]
    },
    {
      "cell_type": "code",
      "metadata": {
        "id": "rjsOyqEBcWZ3",
        "outputId": "55edd0b0-4236-4920-d0ed-55aca7fe5d92",
        "colab": {
          "base_uri": "https://localhost:8080/"
        }
      },
      "source": [
        "temperatura = 'frio'\n",
        "\n",
        "print(temperatura)"
      ],
      "execution_count": 3,
      "outputs": [
        {
          "output_type": "stream",
          "text": [
            "frio\n"
          ],
          "name": "stdout"
        }
      ]
    },
    {
      "cell_type": "code",
      "metadata": {
        "id": "ZZi5Y5KbdXqi",
        "outputId": "36847133-4457-49fa-de71-13e70c9838ae",
        "colab": {
          "base_uri": "https://localhost:8080/"
        }
      },
      "source": [
        "if temperatura == 'quente':\n",
        "  print('Vou tomar um sorvete de Flocos')\n",
        "  print('Vou para a praia (mentira, aqui não tem praia)')\n",
        "else:\n",
        "  print('Vou comer um chocolate')\n",
        "  print('Vamos assistir Cobra Kai')"
      ],
      "execution_count": 4,
      "outputs": [
        {
          "output_type": "stream",
          "text": [
            "Vou comer um chocolate\n",
            "Vamos assistir Cobra Kai\n"
          ],
          "name": "stdout"
        }
      ]
    },
    {
      "cell_type": "code",
      "metadata": {
        "id": "xZ2QnFgfd7Rg",
        "outputId": "0db41b5e-c971-424c-9963-794c4c828d7f",
        "colab": {
          "base_uri": "https://localhost:8080/"
        }
      },
      "source": [
        "horario = 'tarde'\n",
        "\n",
        "if horario == 'manhã':\n",
        "  print('O sol está quente')\n",
        "elif horario == 'tarde':\n",
        "  print('O por do sol está chegando')\n",
        "else:\n",
        "  print('A lua está linda')\n",
        "  print('ESTÁ NA HORA DA JORNADA PYTHON FAIXA PRETA')"
      ],
      "execution_count": 7,
      "outputs": [
        {
          "output_type": "stream",
          "text": [
            "O por do sol está chegando\n"
          ],
          "name": "stdout"
        }
      ]
    },
    {
      "cell_type": "code",
      "metadata": {
        "id": "67g07vKYeieJ",
        "outputId": "66fb7d4b-e8e3-4833-8a3d-af1de09c348a",
        "colab": {
          "base_uri": "https://localhost:8080/"
        }
      },
      "source": [
        "idade = 17\n",
        "\n",
        "if idade >= 18:\n",
        "  print('Você já pode beber, mas com moderação')\n",
        "else:\n",
        "  print('Você não pode beber')"
      ],
      "execution_count": 9,
      "outputs": [
        {
          "output_type": "stream",
          "text": [
            "Você não pode beber\n"
          ],
          "name": "stdout"
        }
      ]
    },
    {
      "cell_type": "code",
      "metadata": {
        "id": "phcrkkyQfHSZ",
        "outputId": "312b6ed3-a0ce-4faa-8083-6001b97e81be",
        "colab": {
          "base_uri": "https://localhost:8080/"
        }
      },
      "source": [
        "temperatura = 37\n",
        "\n",
        "if temperatura <= 30:\n",
        "  print('Aceitável')\n",
        "else: \n",
        "  print('Socorro está muito quente')"
      ],
      "execution_count": 10,
      "outputs": [
        {
          "output_type": "stream",
          "text": [
            "Socorro está muito quente\n"
          ],
          "name": "stdout"
        }
      ]
    },
    {
      "cell_type": "code",
      "metadata": {
        "id": "M5EPDbJpfbfv",
        "outputId": "8d0177f0-63b9-44d2-d16b-df6f92b3d860",
        "colab": {
          "base_uri": "https://localhost:8080/"
        }
      },
      "source": [
        "altura = 1.75\n",
        "\n",
        "if altura > 1.80:\n",
        "  print('O Felipe é alto')\n",
        "else:\n",
        "  print('O Felipe é baixinho')\n",
        "  "
      ],
      "execution_count": 12,
      "outputs": [
        {
          "output_type": "stream",
          "text": [
            "O Felipe é baixinho\n"
          ],
          "name": "stdout"
        }
      ]
    },
    {
      "cell_type": "code",
      "metadata": {
        "id": "1J6VfTYsfk_v",
        "outputId": "2aeb125f-0388-4fd7-c64d-f9360a450d6e",
        "colab": {
          "base_uri": "https://localhost:8080/"
        }
      },
      "source": [
        "quente = True\n",
        "gosta_praia = False\n",
        "\n",
        "if quente == True:\n",
        "  print('Está quente')"
      ],
      "execution_count": 13,
      "outputs": [
        {
          "output_type": "stream",
          "text": [
            "Está quente\n"
          ],
          "name": "stdout"
        }
      ]
    },
    {
      "cell_type": "markdown",
      "metadata": {
        "id": "RyCThd7pf8al"
      },
      "source": [
        "- Geladeira:\n",
        "  - Frutas:\n",
        "    - Maçã\n",
        "    - Pera\n",
        "    - Uva"
      ]
    },
    {
      "cell_type": "code",
      "metadata": {
        "id": "pj05Ppw6f6HO",
        "outputId": "1795c4ea-2f9d-4606-d7ef-c6fa103a562c",
        "colab": {
          "base_uri": "https://localhost:8080/"
        }
      },
      "source": [
        "quente = False\n",
        "gosta_praia = False\n",
        "gosta_chocolate_quente = True\n",
        "\n",
        "if quente == True:\n",
        "  print('Está quente')\n",
        "  if gosta_praia == True:\n",
        "    print('Vá para a praia')\n",
        "  else: \n",
        "    print('Não vá a praia')\n",
        "else:\n",
        "  print('Está frio')\n",
        "  if gosta_chocolate_quente == True:\n",
        "    print('Tome um chocolate quente')\n",
        "  else:\n",
        "    print('Não tome chocolate quente')"
      ],
      "execution_count": 19,
      "outputs": [
        {
          "output_type": "stream",
          "text": [
            "Está frio\n",
            "Tome um chocolate quente\n"
          ],
          "name": "stdout"
        }
      ]
    },
    {
      "cell_type": "code",
      "metadata": {
        "id": "a7XwaSxEgG69",
        "outputId": "e57ce343-f812-48b0-ec79-938be98ec2ed",
        "colab": {
          "base_uri": "https://localhost:8080/"
        }
      },
      "source": [
        "dia = input('Qual é o dia atual? ')\n",
        "\n",
        "if dia == 'sabado':\n",
        "  print('É fim de semana :D')\n",
        "elif dia == 'domingo':\n",
        "  print('É fim de semana :D')\n",
        "else: \n",
        "  print('Não é fim de semana :(')"
      ],
      "execution_count": 24,
      "outputs": [
        {
          "output_type": "stream",
          "text": [
            "Qual é o dia atual? terça\n",
            "Não é fim de semana :(\n"
          ],
          "name": "stdout"
        }
      ]
    },
    {
      "cell_type": "code",
      "metadata": {
        "id": "Zz3Jf-3yg_jY",
        "outputId": "9e3457f8-259a-4deb-9984-18b651122cf0",
        "colab": {
          "base_uri": "https://localhost:8080/"
        }
      },
      "source": [
        "# 1, 3, 6 e 10  => Válido\n",
        "# qualquer outro => Inválido\n",
        "\n",
        "numero = 11\n",
        "\n",
        "if numero == 1:\n",
        "  print('é valido')\n",
        "elif numero == 3:\n",
        "  print('é valido')\n",
        "elif numero == 6:\n",
        "  print('é valido')\n",
        "elif numero == 10:\n",
        "  print('é valido')\n",
        "else:\n",
        "  print('é inválido')"
      ],
      "execution_count": 30,
      "outputs": [
        {
          "output_type": "stream",
          "text": [
            "é inválido\n"
          ],
          "name": "stdout"
        }
      ]
    },
    {
      "cell_type": "markdown",
      "metadata": {
        "id": "UecCR5eXiCSx"
      },
      "source": [
        "# Operadores Lógicos\n",
        "\n",
        "Servem para fazer uma condição composta   \n",
        "\n",
        "E => Ambas precisam ser verdade  \n",
        "OU => Pelo Menos UMA precisa ser verdade   \n",
        "\n",
        "\n",
        "Ex:   \n",
        "  - Se for manhã E estiver sol  \n",
        "  - Se for sábado OU domingo  \n",
        "\n",
        "E => AND   \n",
        "OU => OR  "
      ]
    },
    {
      "cell_type": "code",
      "metadata": {
        "id": "RdHa-shUhf5V",
        "outputId": "8325fdec-c60f-4a57-8ed9-075d55b58fbb",
        "colab": {
          "base_uri": "https://localhost:8080/"
        }
      },
      "source": [
        "dia = input('Qual é o dia atual? ')\n",
        "\n",
        "if dia == 'sabado' or dia == 'domingo':\n",
        "  print('É fim de semana :D')\n",
        "else: \n",
        "  print('Não é fim de semana :(')"
      ],
      "execution_count": 34,
      "outputs": [
        {
          "output_type": "stream",
          "text": [
            "Qual é o dia atual? segunda\n",
            "Não é fim de semana :(\n"
          ],
          "name": "stdout"
        }
      ]
    },
    {
      "cell_type": "code",
      "metadata": {
        "id": "TdwLFHemin9S",
        "outputId": "4c5a95d5-997b-40ba-e54c-0d6e5f2a1027",
        "colab": {
          "base_uri": "https://localhost:8080/"
        }
      },
      "source": [
        "# 1, 3, 6 e 10  => Válido\n",
        "# qualquer outro => Inválido\n",
        "\n",
        "numero = 11\n",
        "\n",
        "if numero == 1:\n",
        "  print('é valido')\n",
        "elif numero == 3:\n",
        "  print('é valido')\n",
        "elif numero == 6:\n",
        "  print('é valido')\n",
        "elif numero == 10:\n",
        "  print('é valido')\n",
        "else:\n",
        "  print('é inválido')"
      ],
      "execution_count": 35,
      "outputs": [
        {
          "output_type": "stream",
          "text": [
            "é inválido\n"
          ],
          "name": "stdout"
        }
      ]
    },
    {
      "cell_type": "code",
      "metadata": {
        "id": "1yO0QtP5iwml",
        "outputId": "0dee2559-52be-4ff6-d02a-abe13b98ee4b",
        "colab": {
          "base_uri": "https://localhost:8080/"
        }
      },
      "source": [
        "numero = 6\n",
        "\n",
        "if numero == 1 or numero == 3 or numero == 6 or numero == 10:\n",
        "  print('É válido')\n",
        "else:\n",
        "  print('É inválido')"
      ],
      "execution_count": 37,
      "outputs": [
        {
          "output_type": "stream",
          "text": [
            "É válido\n"
          ],
          "name": "stdout"
        }
      ]
    },
    {
      "cell_type": "code",
      "metadata": {
        "id": "e2hI5thGi6sg",
        "outputId": "4fdfaaa7-718d-4b80-e5c9-5ad87b891e72",
        "colab": {
          "base_uri": "https://localhost:8080/"
        }
      },
      "source": [
        "horario = 'manha'\n",
        "sol = True\n",
        "\n",
        "if horario == 'manha' and sol == True:\n",
        "  print('Está uma manhã ensolarada')"
      ],
      "execution_count": 40,
      "outputs": [
        {
          "output_type": "stream",
          "text": [
            "Está uma manhã ensolarada\n"
          ],
          "name": "stdout"
        }
      ]
    },
    {
      "cell_type": "code",
      "metadata": {
        "id": "QShu15RyjIru",
        "outputId": "c04d235b-02b3-4c42-b6df-8cf70b1913b9",
        "colab": {
          "base_uri": "https://localhost:8080/"
        }
      },
      "source": [
        "meu_nome = 'Felipe'\n",
        "nome = input('Digite seu nome: ')\n",
        "\n",
        "meu_sobrenome = 'Cabrera'\n",
        "sobrenome = input('Digite seu sobrenome: ')\n",
        "\n",
        "if nome == meu_nome and sobrenome == meu_sobrenome:\n",
        "  print('Você é o Felipe Cabrera')\n",
        "else:\n",
        "  print('Você não é o Felipe Cabrera')"
      ],
      "execution_count": 45,
      "outputs": [
        {
          "output_type": "stream",
          "text": [
            "Digite seu nome: Felipe\n",
            "Digite seu sobrenome: Cabrera\n",
            "Você é o Felipe Cabrera\n"
          ],
          "name": "stdout"
        }
      ]
    },
    {
      "cell_type": "code",
      "metadata": {
        "id": "YVGBEep1kThF",
        "outputId": "b4910d6c-b37a-40c4-a384-cea13ae08f10",
        "colab": {
          "base_uri": "https://localhost:8080/"
        }
      },
      "source": [
        "numero_sorte = 10\n",
        "\n",
        "numero = int(input('Escolha um numero: '))\n",
        "\n",
        "if numero != 10:\n",
        "  print('errou o numero')"
      ],
      "execution_count": 77,
      "outputs": [
        {
          "output_type": "stream",
          "text": [
            "Escolha um numero: 10\n"
          ],
          "name": "stdout"
        }
      ]
    },
    {
      "cell_type": "markdown",
      "metadata": {
        "id": "aOkzKe8LkS5g"
      },
      "source": [
        "# Laços de Repetição\n",
        "\n",
        "É uma excelente forma de evitar repetição de código. \n",
        "\n",
        "Ele vai *executar n vezes* uma operação.\n",
        "\n",
        "*n* => Quantidade de vezes definida."
      ]
    },
    {
      "cell_type": "code",
      "metadata": {
        "id": "fXYFm4eLju0T",
        "outputId": "deca353b-bc30-4a05-e421-a29cfa3835a4",
        "colab": {
          "base_uri": "https://localhost:8080/"
        }
      },
      "source": [
        "# De 1 até 10 vamos printar todos os numeros\n",
        "print(1)\n",
        "print(2)\n",
        "print(3)\n",
        "print(4)\n",
        "print(5)\n",
        "print(6)\n",
        "print(7)\n",
        "print(8)\n",
        "print(9)\n",
        "# Na programação o Minimo (1) é INCLUSIVO => Ele existe\n",
        "# Já é Maximo (10) é EXCLUSIVO => Ele não existe\n",
        "\n"
      ],
      "execution_count": 46,
      "outputs": [
        {
          "output_type": "stream",
          "text": [
            "1\n",
            "2\n",
            "3\n",
            "4\n",
            "5\n",
            "6\n",
            "7\n",
            "8\n",
            "9\n"
          ],
          "name": "stdout"
        }
      ]
    },
    {
      "cell_type": "code",
      "metadata": {
        "id": "cR073yTokszh",
        "outputId": "862d1984-4da8-40f7-ef4b-3e2797021ac7",
        "colab": {
          "base_uri": "https://localhost:8080/"
        }
      },
      "source": [
        "# Até 11 vamos printar todos os numeros\n",
        "print(0)\n",
        "print(1)\n",
        "print(2)\n",
        "print(3)\n",
        "print(4)\n",
        "print(5)\n",
        "print(6)\n",
        "print(7)\n",
        "print(8)\n",
        "print(9)\n",
        "print(10)\n",
        "# Na programação o Minimo (1) é INCLUSIVO => Ele existe\n",
        "# Já é Maximo (10) é EXCLUSIVO => Ele não existe"
      ],
      "execution_count": 47,
      "outputs": [
        {
          "output_type": "stream",
          "text": [
            "0\n",
            "1\n",
            "2\n",
            "3\n",
            "4\n",
            "5\n",
            "6\n",
            "7\n",
            "8\n",
            "9\n",
            "10\n"
          ],
          "name": "stdout"
        }
      ]
    },
    {
      "cell_type": "code",
      "metadata": {
        "id": "bkrhXwNqkx7N",
        "outputId": "67be2e2b-b5d1-49d9-811a-ea8db4d7c184",
        "colab": {
          "base_uri": "https://localhost:8080/"
        }
      },
      "source": [
        "for numero in range(1,10):\n",
        "  print(numero)"
      ],
      "execution_count": 48,
      "outputs": [
        {
          "output_type": "stream",
          "text": [
            "1\n",
            "2\n",
            "3\n",
            "4\n",
            "5\n",
            "6\n",
            "7\n",
            "8\n",
            "9\n"
          ],
          "name": "stdout"
        }
      ]
    },
    {
      "cell_type": "code",
      "metadata": {
        "id": "2qlFH0VxlQtx",
        "outputId": "17d0917f-43a4-48dc-a114-a7e70350be34",
        "colab": {
          "base_uri": "https://localhost:8080/"
        }
      },
      "source": [
        "for numero in range(10):\n",
        "  print(numero)"
      ],
      "execution_count": 49,
      "outputs": [
        {
          "output_type": "stream",
          "text": [
            "0\n",
            "1\n",
            "2\n",
            "3\n",
            "4\n",
            "5\n",
            "6\n",
            "7\n",
            "8\n",
            "9\n"
          ],
          "name": "stdout"
        }
      ]
    },
    {
      "cell_type": "markdown",
      "metadata": {
        "id": "rXU9u1kplYwR"
      },
      "source": [
        "*for* => Nossa palavra-chave para Repetição.  \n",
        "*variavel* => O dado que estamos trabalhando no momento atual.  \n",
        "*in* => Nossa palavra-chave para \"onde vamos repetir?\"  \n",
        "*invervalo/sequencia* => O que vamos repedir\n"
      ]
    },
    {
      "cell_type": "code",
      "metadata": {
        "id": "-VW3U1anlWTx",
        "outputId": "944c9d2b-276b-4af6-8ecf-9b63c0a5b712",
        "colab": {
          "base_uri": "https://localhost:8080/"
        }
      },
      "source": [
        "for numero in range(5):\n",
        "  print(numero)\n",
        "\n",
        "\n",
        "#    for         numero       in          range(5)\n",
        "# para cada      numero       no      intervalo até 5"
      ],
      "execution_count": 51,
      "outputs": [
        {
          "output_type": "stream",
          "text": [
            "0\n",
            "1\n",
            "2\n",
            "3\n",
            "4\n"
          ],
          "name": "stdout"
        }
      ]
    },
    {
      "cell_type": "code",
      "metadata": {
        "id": "k3XFihoFl04C",
        "outputId": "0c244e2f-f51f-4265-bd1d-b421b2af41e4",
        "colab": {
          "base_uri": "https://localhost:8080/"
        }
      },
      "source": [
        "for numero in range(1, 11):\n",
        "  print('O número atual é:', numero)"
      ],
      "execution_count": 52,
      "outputs": [
        {
          "output_type": "stream",
          "text": [
            "O número atual é: 1\n",
            "O número atual é: 2\n",
            "O número atual é: 3\n",
            "O número atual é: 4\n",
            "O número atual é: 5\n",
            "O número atual é: 6\n",
            "O número atual é: 7\n",
            "O número atual é: 8\n",
            "O número atual é: 9\n",
            "O número atual é: 10\n"
          ],
          "name": "stdout"
        }
      ]
    },
    {
      "cell_type": "code",
      "metadata": {
        "id": "SK5GSy2GmQsW",
        "outputId": "089c5ada-7f6d-40b3-a817-101e32a0c24b",
        "colab": {
          "base_uri": "https://localhost:8080/"
        }
      },
      "source": [
        "for numero in range(1, 11):\n",
        "  print('O número atual é:', numero)\n",
        "  if numero == 5:\n",
        "    print('É o numero 5')\n",
        "  if numero == 2:\n",
        "    print('É o numero 2')"
      ],
      "execution_count": 53,
      "outputs": [
        {
          "output_type": "stream",
          "text": [
            "O número atual é: 1\n",
            "O número atual é: 2\n",
            "É o numero 2\n",
            "O número atual é: 3\n",
            "O número atual é: 4\n",
            "O número atual é: 5\n",
            "É o numero 5\n",
            "O número atual é: 6\n",
            "O número atual é: 7\n",
            "O número atual é: 8\n",
            "O número atual é: 9\n",
            "O número atual é: 10\n"
          ],
          "name": "stdout"
        }
      ]
    },
    {
      "cell_type": "code",
      "metadata": {
        "id": "q9no86aImok0"
      },
      "source": [
        "nomes = ['Felipe', 'Fabiana', 'Paulo', 'Katia']"
      ],
      "execution_count": 57,
      "outputs": []
    },
    {
      "cell_type": "code",
      "metadata": {
        "id": "-I8x8AY0m1rA",
        "outputId": "ae33cb26-2e7a-4648-f724-69d0594c7ac6",
        "colab": {
          "base_uri": "https://localhost:8080/"
        }
      },
      "source": [
        "for nome in nomes:\n",
        "  print('O nome atual é', nome)\n",
        "  if nome == 'Felipe':\n",
        "    print('(Ou Zarcky)')"
      ],
      "execution_count": 60,
      "outputs": [
        {
          "output_type": "stream",
          "text": [
            "O nome atual é Felipe\n",
            "(Ou Zarcky)\n",
            "O nome atual é Fabiana\n",
            "O nome atual é Paulo\n",
            "O nome atual é Katia\n"
          ],
          "name": "stdout"
        }
      ]
    },
    {
      "cell_type": "code",
      "metadata": {
        "id": "c_ABgQxvm7b_",
        "outputId": "5abee96e-0e65-41de-c6c2-1254692d0048",
        "colab": {
          "base_uri": "https://localhost:8080/"
        }
      },
      "source": [
        "notas = [6, 7.5, 9, 10, 3, 5]\n",
        "\n",
        "soma = 0\n",
        "\n",
        "for nota in notas:\n",
        "  soma = soma + nota\n",
        "\n",
        "print('A soma é', soma)\n",
        "\n",
        "media = soma / len(notas)\n",
        "\n",
        "print('A média é', media)"
      ],
      "execution_count": 69,
      "outputs": [
        {
          "output_type": "stream",
          "text": [
            "A soma é 40.5\n",
            "A média é 6.75\n"
          ],
          "name": "stdout"
        }
      ]
    },
    {
      "cell_type": "code",
      "metadata": {
        "id": "lP3UFQzWoS_L",
        "outputId": "6ce262d6-ec9f-4f4e-94be-d0b9616b5793",
        "colab": {
          "base_uri": "https://localhost:8080/"
        }
      },
      "source": [
        "# len => Tamanho em ingles (abreviação)\n",
        "      #  1  2   \n",
        "notas = [6, 7.5]\n",
        "len(notas)\n",
        "\n",
        "# range = intervalo em ingles\n",
        "# range(1, 10) => intervalo de 1 até 10"
      ],
      "execution_count": 72,
      "outputs": [
        {
          "output_type": "execute_result",
          "data": {
            "text/plain": [
              "2"
            ]
          },
          "metadata": {
            "tags": []
          },
          "execution_count": 72
        }
      ]
    },
    {
      "cell_type": "code",
      "metadata": {
        "id": "JZII9Mh_o1vF",
        "outputId": "00cbfdd3-69a2-429d-ecda-521bcf7b4f24",
        "colab": {
          "base_uri": "https://localhost:8080/"
        }
      },
      "source": [
        "lista1 = ['A', 'B', 'C']\n",
        "lista2 = [1, 2, 3, 4, 5]\n",
        "\n",
        "tam_lista1 = len(lista1)\n",
        "tam_lista2 = len(lista2)\n",
        "\n",
        "print(tam_lista1)\n",
        "print(tam_lista2)"
      ],
      "execution_count": 78,
      "outputs": [
        {
          "output_type": "stream",
          "text": [
            "3\n",
            "5\n"
          ],
          "name": "stdout"
        }
      ]
    },
    {
      "cell_type": "markdown",
      "metadata": {
        "id": "FT-IraLHqC4T"
      },
      "source": [
        "# Função \n",
        "\n",
        "Toda função é uma rotina. \n",
        "\n",
        "Eu defino (def) uma rotina e a executo quantas vezes quiser.  \n",
        "\n",
        "É uma excelente forma de deixar nosso dinâmico e sem repetição."
      ]
    },
    {
      "cell_type": "code",
      "metadata": {
        "id": "NZht9eBxp3fi",
        "outputId": "133b955b-db5a-4b7f-8bcd-7fa408aa045d",
        "colab": {
          "base_uri": "https://localhost:8080/"
        }
      },
      "source": [
        "# Definindo a função\n",
        "def nome_funcao(): \n",
        "  # Código da função\n",
        "  print('Codigo da função')\n",
        "\n",
        "# Chamando a função\n",
        "nome_funcao()"
      ],
      "execution_count": 79,
      "outputs": [
        {
          "output_type": "stream",
          "text": [
            "Codigo da função\n"
          ],
          "name": "stdout"
        }
      ]
    },
    {
      "cell_type": "code",
      "metadata": {
        "id": "jE1dWce-qefn",
        "outputId": "792ca5a7-603b-472e-8926-99ba08a4be09",
        "colab": {
          "base_uri": "https://localhost:8080/"
        }
      },
      "source": [
        "def mostrar_nome():\n",
        "  print('Felipe Cabrera')\n",
        "\n",
        "mostrar_nome()"
      ],
      "execution_count": 83,
      "outputs": [
        {
          "output_type": "stream",
          "text": [
            "Felipe Cabrera\n"
          ],
          "name": "stdout"
        }
      ]
    },
    {
      "cell_type": "markdown",
      "metadata": {
        "id": "ynby_Lt2rAQ4"
      },
      "source": [
        "# Parâmetro/Argumento da função\n",
        "\n",
        "É uma maneira de enviar dados para a função"
      ]
    },
    {
      "cell_type": "code",
      "metadata": {
        "id": "QH5WSJbTq1RA",
        "outputId": "51c1e1d4-0fac-4394-cebc-3109e2d0ccc1",
        "colab": {
          "base_uri": "https://localhost:8080/"
        }
      },
      "source": [
        "def mostrar_nome(nome_atual):\n",
        "  print(nome_atual)\n",
        "  \n",
        "mostrar_nome('Edgar')\n",
        "mostrar_nome('Fabiana')\n",
        "mostrar_nome('Paulo')\n",
        "mostrar_nome('Katia')"
      ],
      "execution_count": 87,
      "outputs": [
        {
          "output_type": "stream",
          "text": [
            "Edgar\n",
            "Fabiana\n",
            "Paulo\n",
            "Katia\n"
          ],
          "name": "stdout"
        }
      ]
    },
    {
      "cell_type": "code",
      "metadata": {
        "id": "ZmwwXxQQrGN0",
        "outputId": "485b2f3e-18f5-44f8-e0bd-0769fcc7a85a",
        "colab": {
          "base_uri": "https://localhost:8080/"
        }
      },
      "source": [
        "def calcular_media(nota1, nota2):\n",
        "  soma = nota1 + nota2\n",
        "  media = soma / 2 \n",
        "  print(media)\n",
        "\n",
        "\n",
        "primeira_nota = float(input('Sua primeira nota: '))\n",
        "segunda_nota = float(input('Sua segunda nota: '))\n",
        "\n",
        "calcular_media(primeira_nota, segunda_nota)\n"
      ],
      "execution_count": 90,
      "outputs": [
        {
          "output_type": "stream",
          "text": [
            "Sua primeira nota: 10\n",
            "Sua segunda nota: 8\n",
            "9.0\n"
          ],
          "name": "stdout"
        }
      ]
    },
    {
      "cell_type": "markdown",
      "metadata": {
        "id": "jkv-2fAwsmOH"
      },
      "source": [
        "# Return\n",
        "\n",
        "Quando queremos retornar um valor da função, ou seja, a função devolve um valor calculado, nós usamos o Return. "
      ]
    },
    {
      "cell_type": "code",
      "metadata": {
        "id": "hRCkw9gvryfN",
        "outputId": "488f1391-b01a-4ed3-a236-27c52f060aa9",
        "colab": {
          "base_uri": "https://localhost:8080/",
          "height": 199
        }
      },
      "source": [
        "def calcular_media(nota1, nota2):\n",
        "  soma = nota1 + nota2\n",
        "  media1 = soma / 2 \n",
        "\n",
        "\n",
        "calcular_media(10,8)\n",
        "\n",
        "# Deu erro pois não usamos o return\n",
        "print(media1)\n"
      ],
      "execution_count": 95,
      "outputs": [
        {
          "output_type": "error",
          "ename": "NameError",
          "evalue": "ignored",
          "traceback": [
            "\u001b[0;31m---------------------------------------------------------------------------\u001b[0m",
            "\u001b[0;31mNameError\u001b[0m                                 Traceback (most recent call last)",
            "\u001b[0;32m<ipython-input-95-93c82ac6d98e>\u001b[0m in \u001b[0;36m<module>\u001b[0;34m()\u001b[0m\n\u001b[1;32m      7\u001b[0m \u001b[0;34m\u001b[0m\u001b[0m\n\u001b[1;32m      8\u001b[0m \u001b[0;31m# Deu erro pois não usamos o return\u001b[0m\u001b[0;34m\u001b[0m\u001b[0;34m\u001b[0m\u001b[0;34m\u001b[0m\u001b[0m\n\u001b[0;32m----> 9\u001b[0;31m \u001b[0mprint\u001b[0m\u001b[0;34m(\u001b[0m\u001b[0mmedia1\u001b[0m\u001b[0;34m)\u001b[0m\u001b[0;34m\u001b[0m\u001b[0;34m\u001b[0m\u001b[0m\n\u001b[0m",
            "\u001b[0;31mNameError\u001b[0m: name 'media1' is not defined"
          ]
        }
      ]
    },
    {
      "cell_type": "code",
      "metadata": {
        "id": "16byeRCcsGwX",
        "outputId": "cb646723-ded5-4070-cdcf-4e178bf3990d",
        "colab": {
          "base_uri": "https://localhost:8080/"
        }
      },
      "source": [
        "def calcular_media(nota1, nota2):\n",
        "  soma = nota1 + nota2\n",
        "  media = soma / 2 \n",
        "  return media\n",
        "\n",
        "\n",
        "media_calculada = calcular_media(10,8)\n",
        "\n",
        "print(media_calculada)"
      ],
      "execution_count": 93,
      "outputs": [
        {
          "output_type": "stream",
          "text": [
            "9.0\n"
          ],
          "name": "stdout"
        }
      ]
    },
    {
      "cell_type": "code",
      "metadata": {
        "id": "Buyat_dBsc37",
        "outputId": "1864432a-01f0-492d-a3de-d8854e717cb4",
        "colab": {
          "base_uri": "https://localhost:8080/"
        }
      },
      "source": [
        "# IMC => PESO (KG) / ALTURA (M)²\n",
        "\n",
        "def numero_quadrado(numero):\n",
        "  quadrado = numero * numero \n",
        "  return quadrado \n",
        "\n",
        "def calcular_imc(peso, altura):\n",
        "  altura_quadrada = numero_quadrado(altura)\n",
        "  meu_imc = peso / altura_quadrada\n",
        "\n",
        "  return meu_imc\n",
        "\n",
        "imc = calcular_imc(66, 1.75)\n",
        "print(imc)"
      ],
      "execution_count": 96,
      "outputs": [
        {
          "output_type": "stream",
          "text": [
            "21.551020408163264\n"
          ],
          "name": "stdout"
        }
      ]
    },
    {
      "cell_type": "code",
      "metadata": {
        "id": "vxahaMAbskl9",
        "outputId": "1ba96860-cf48-4305-e670-1b5f55c36d10",
        "colab": {
          "base_uri": "https://localhost:8080/"
        }
      },
      "source": [
        "# IMC => PESO (KG) / ALTURA (M)²\n",
        "\n",
        "def numero_quadrado(numero):\n",
        "  quadrado = numero * numero \n",
        "  return quadrado \n",
        "\n",
        "def calcular_imc(peso, altura):\n",
        "  altura_quadrada = numero_quadrado(altura)\n",
        "  meu_imc = peso / altura_quadrada\n",
        "\n",
        "  return meu_imc\n",
        "\n",
        "def classificar_imc(meu_imc):\n",
        "  if imc < 18.5:\n",
        "    print('Magreza')\n",
        "  elif imc >= 18.5 and imc < 25:\n",
        "    print('Normal')\n",
        "  elif imc >= 25 and imc < 30:\n",
        "    print('Sobrepeso')\n",
        "  elif imc >= 30 and imc < 40:\n",
        "    print('Obesidade')\n",
        "  else:\n",
        "    print('Obesidade Grave')\n",
        "\n",
        "imc = calcular_imc(66, 1.75)\n",
        "\n",
        "print('Seu IMC é:', imc)\n",
        "\n",
        "print('Sua classificação é:')\n",
        "classificar_imc(imc)"
      ],
      "execution_count": 98,
      "outputs": [
        {
          "output_type": "stream",
          "text": [
            "Seu IMC é: 21.551020408163264\n",
            "Sua classificação é:\n",
            "Normal\n"
          ],
          "name": "stdout"
        }
      ]
    },
    {
      "cell_type": "code",
      "metadata": {
        "id": "JPhyeiv8t5wk"
      },
      "source": [
        ""
      ],
      "execution_count": null,
      "outputs": []
    }
  ]
}