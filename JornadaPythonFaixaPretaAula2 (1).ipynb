{
  "nbformat": 4,
  "nbformat_minor": 0,
  "metadata": {
    "colab": {
      "name": "JornadaPythonFaixaPretaAula2.ipynb",
      "provenance": []
    },
    "kernelspec": {
      "name": "python3",
      "display_name": "Python 3"
    }
  },
  "cells": [
    {
      "cell_type": "markdown",
      "metadata": {
        "id": "3uoC8QvOT8oG"
      },
      "source": [
        "# Identação de código\n",
        "\n",
        "Identação é aquele espaçamento no início da linha.\n",
        "\n",
        "O nível mais a direita pertence ao nível mais a esquerda"
      ]
    },
    {
      "cell_type": "code",
      "metadata": {
        "id": "gau8zFJrTGro"
      },
      "source": [
        "# Nivel Pai\n",
        "  # Nivel Filho\n",
        "    # Nivel Neto 1\n",
        "      # Nivel Bisneto 1\n",
        "      # Nivel Bisneto 2\n",
        "      # Nivel Bisneto 3\n",
        "    # Nivel Neto 2"
      ],
      "execution_count": null,
      "outputs": []
    },
    {
      "cell_type": "code",
      "metadata": {
        "id": "XN21YrtiVMN8",
        "outputId": "5aef119d-712c-4910-8ac2-f8e9aa187406",
        "colab": {
          "base_uri": "https://localhost:8080/"
        }
      },
      "source": [
        "print(\"ByLearners\")"
      ],
      "execution_count": null,
      "outputs": [
        {
          "output_type": "stream",
          "text": [
            "ByLearners\n"
          ],
          "name": "stdout"
        }
      ]
    },
    {
      "cell_type": "code",
      "metadata": {
        "id": "Pin9xMYPVXMG"
      },
      "source": [
        ""
      ],
      "execution_count": null,
      "outputs": []
    },
    {
      "cell_type": "markdown",
      "metadata": {
        "id": "-xig2HX0VVjN"
      },
      "source": [
        "# Variáveis\n",
        "\n",
        "Uma variável um nome que se refere a um valor.  \n",
        "\n",
        "## Motivo do Uso\n",
        "\n",
        "São usadas para guardarmos valores para ser usados mais tarde no nosso programa\n",
        "\n",
        "## Sintaxe\n",
        "\n",
        "variavel = valor  \n",
        "variavel = novo_valor  \n",
        "nova_variavel = variavel  "
      ]
    },
    {
      "cell_type": "code",
      "metadata": {
        "id": "etjC6UmpWA0z"
      },
      "source": [
        "nome = 'Felipe'\n",
        "idade = 23"
      ],
      "execution_count": null,
      "outputs": []
    },
    {
      "cell_type": "code",
      "metadata": {
        "id": "aAS3-dShWdqs",
        "outputId": "9df0b4fc-dcc9-4d6e-e8b5-08c2fe147d59",
        "colab": {
          "base_uri": "https://localhost:8080/",
          "height": 35
        }
      },
      "source": [
        "nome"
      ],
      "execution_count": null,
      "outputs": [
        {
          "output_type": "execute_result",
          "data": {
            "application/vnd.google.colaboratory.intrinsic+json": {
              "type": "string"
            },
            "text/plain": [
              "'Felipe'"
            ]
          },
          "metadata": {
            "tags": []
          },
          "execution_count": 6
        }
      ]
    },
    {
      "cell_type": "code",
      "metadata": {
        "id": "tg50mCG9WehB",
        "outputId": "6dbcabc1-f39b-4e16-cb7b-35559d2525b2",
        "colab": {
          "base_uri": "https://localhost:8080/"
        }
      },
      "source": [
        "idade"
      ],
      "execution_count": null,
      "outputs": [
        {
          "output_type": "execute_result",
          "data": {
            "text/plain": [
              "23"
            ]
          },
          "metadata": {
            "tags": []
          },
          "execution_count": 7
        }
      ]
    },
    {
      "cell_type": "code",
      "metadata": {
        "id": "503ksA83WhB7"
      },
      "source": [
        "idade = idade + 1"
      ],
      "execution_count": null,
      "outputs": []
    },
    {
      "cell_type": "code",
      "metadata": {
        "id": "wtS9tpJcWqRX",
        "outputId": "2fcb65bc-8687-4560-cd99-44eb7e9619cc",
        "colab": {
          "base_uri": "https://localhost:8080/"
        }
      },
      "source": [
        "idade"
      ],
      "execution_count": null,
      "outputs": [
        {
          "output_type": "execute_result",
          "data": {
            "text/plain": [
              "24"
            ]
          },
          "metadata": {
            "tags": []
          },
          "execution_count": 9
        }
      ]
    },
    {
      "cell_type": "code",
      "metadata": {
        "id": "lZm7zJEpWpeO"
      },
      "source": [
        "idade_felipe_2021 = idade"
      ],
      "execution_count": null,
      "outputs": []
    },
    {
      "cell_type": "code",
      "metadata": {
        "id": "vOYZxFnZWwsj",
        "outputId": "8fdd7db3-19f6-4331-c0c8-cd9097a9aca0",
        "colab": {
          "base_uri": "https://localhost:8080/"
        }
      },
      "source": [
        "idade_felipe_2021"
      ],
      "execution_count": null,
      "outputs": [
        {
          "output_type": "execute_result",
          "data": {
            "text/plain": [
              "24"
            ]
          },
          "metadata": {
            "tags": []
          },
          "execution_count": 11
        }
      ]
    },
    {
      "cell_type": "code",
      "metadata": {
        "id": "9CG4t8xWWyyh"
      },
      "source": [
        "primeiro_numero = 15\n",
        "segundo_numero = 10\n",
        "\n",
        "soma = primeiro_numero + segundo_numero"
      ],
      "execution_count": null,
      "outputs": []
    },
    {
      "cell_type": "code",
      "metadata": {
        "id": "A2Hp6E7ZW9F2",
        "outputId": "c7417516-cf69-4670-d1e9-c90ae63d2fa0",
        "colab": {
          "base_uri": "https://localhost:8080/"
        }
      },
      "source": [
        "soma"
      ],
      "execution_count": null,
      "outputs": [
        {
          "output_type": "execute_result",
          "data": {
            "text/plain": [
              "25"
            ]
          },
          "metadata": {
            "tags": []
          },
          "execution_count": 13
        }
      ]
    },
    {
      "cell_type": "code",
      "metadata": {
        "id": "a1nC2ub9W-UF"
      },
      "source": [
        "nome = 'Felipe'\n",
        "sobrenome = 'Cabrera'\n",
        "apelido = \"Zarcky\""
      ],
      "execution_count": null,
      "outputs": []
    },
    {
      "cell_type": "code",
      "metadata": {
        "id": "Q4HZrOIHXRuc"
      },
      "source": [
        "nome_completo = nome + sobrenome"
      ],
      "execution_count": null,
      "outputs": []
    },
    {
      "cell_type": "code",
      "metadata": {
        "id": "1p6pyH_oXXBg",
        "outputId": "a734b22b-3985-43b0-889b-aa2a40904234",
        "colab": {
          "base_uri": "https://localhost:8080/",
          "height": 35
        }
      },
      "source": [
        "nome_completo"
      ],
      "execution_count": null,
      "outputs": [
        {
          "output_type": "execute_result",
          "data": {
            "application/vnd.google.colaboratory.intrinsic+json": {
              "type": "string"
            },
            "text/plain": [
              "'FelipeCabrera'"
            ]
          },
          "metadata": {
            "tags": []
          },
          "execution_count": 17
        }
      ]
    },
    {
      "cell_type": "code",
      "metadata": {
        "id": "JIWnhUqUXXvW"
      },
      "source": [
        "nome_completo = nome + ' ' + sobrenome"
      ],
      "execution_count": null,
      "outputs": []
    },
    {
      "cell_type": "code",
      "metadata": {
        "id": "K9eCaA6tXe3e",
        "outputId": "be2b4884-c610-4e26-86ce-99b0fa586977",
        "colab": {
          "base_uri": "https://localhost:8080/",
          "height": 35
        }
      },
      "source": [
        "nome_completo"
      ],
      "execution_count": null,
      "outputs": [
        {
          "output_type": "execute_result",
          "data": {
            "application/vnd.google.colaboratory.intrinsic+json": {
              "type": "string"
            },
            "text/plain": [
              "'Felipe Cabrera'"
            ]
          },
          "metadata": {
            "tags": []
          },
          "execution_count": 20
        }
      ]
    },
    {
      "cell_type": "markdown",
      "metadata": {
        "id": "qZGuetnsY6gp"
      },
      "source": [
        "# Tipos de Dados\n",
        "\n",
        "Toda variavel ela tem um tipo, que a define se é um texto, numero, booleano"
      ]
    },
    {
      "cell_type": "code",
      "metadata": {
        "id": "k2gjUhp5XgPk"
      },
      "source": [
        "inteiro = 10\n",
        "decimal = 10.5\n",
        "texto = 'Felipe Cabrera'\n",
        "verdadeiro_falso = True  # True ou False"
      ],
      "execution_count": null,
      "outputs": []
    },
    {
      "cell_type": "code",
      "metadata": {
        "id": "XuBQCApbZT9l",
        "outputId": "a9d67237-03a8-4e69-ba81-8bef9dc5b6d9",
        "colab": {
          "base_uri": "https://localhost:8080/"
        }
      },
      "source": [
        "23 + 10"
      ],
      "execution_count": null,
      "outputs": [
        {
          "output_type": "execute_result",
          "data": {
            "text/plain": [
              "33"
            ]
          },
          "metadata": {
            "tags": []
          },
          "execution_count": 22
        }
      ]
    },
    {
      "cell_type": "code",
      "metadata": {
        "id": "atYSXuivZY2V",
        "outputId": "df5ee67a-b43e-4ad9-ce69-a6a2911f1a6a",
        "colab": {
          "base_uri": "https://localhost:8080/",
          "height": 35
        }
      },
      "source": [
        "'23' + '10'"
      ],
      "execution_count": null,
      "outputs": [
        {
          "output_type": "execute_result",
          "data": {
            "application/vnd.google.colaboratory.intrinsic+json": {
              "type": "string"
            },
            "text/plain": [
              "'2310'"
            ]
          },
          "metadata": {
            "tags": []
          },
          "execution_count": 23
        }
      ]
    },
    {
      "cell_type": "code",
      "metadata": {
        "id": "RdtjTJGdZbLF",
        "outputId": "4088deb8-419b-4b53-b2cf-e4724ad0e2cd",
        "colab": {
          "base_uri": "https://localhost:8080/",
          "height": 35
        }
      },
      "source": [
        "'ab' + 'cd'"
      ],
      "execution_count": null,
      "outputs": [
        {
          "output_type": "execute_result",
          "data": {
            "application/vnd.google.colaboratory.intrinsic+json": {
              "type": "string"
            },
            "text/plain": [
              "'abcd'"
            ]
          },
          "metadata": {
            "tags": []
          },
          "execution_count": 24
        }
      ]
    },
    {
      "cell_type": "code",
      "metadata": {
        "id": "fNDI8L0rZehY",
        "outputId": "d552d8e0-ed0e-468c-f68b-d311d89047f7",
        "colab": {
          "base_uri": "https://localhost:8080/"
        }
      },
      "source": [
        "type(23)"
      ],
      "execution_count": null,
      "outputs": [
        {
          "output_type": "execute_result",
          "data": {
            "text/plain": [
              "int"
            ]
          },
          "metadata": {
            "tags": []
          },
          "execution_count": 25
        }
      ]
    },
    {
      "cell_type": "code",
      "metadata": {
        "id": "1FPNqGzeZkDU",
        "outputId": "eac42443-1b3a-460f-e10b-a363e52461bd",
        "colab": {
          "base_uri": "https://localhost:8080/"
        }
      },
      "source": [
        "type('23')"
      ],
      "execution_count": null,
      "outputs": [
        {
          "output_type": "execute_result",
          "data": {
            "text/plain": [
              "str"
            ]
          },
          "metadata": {
            "tags": []
          },
          "execution_count": 26
        }
      ]
    },
    {
      "cell_type": "code",
      "metadata": {
        "id": "3r3O4JgYZmN_"
      },
      "source": [
        "inteiro = 10\n",
        "decimal = 10.5\n",
        "texto = 'Felipe Cabrera'\n",
        "verdadeiro_falso = True  # True ou False"
      ],
      "execution_count": null,
      "outputs": []
    },
    {
      "cell_type": "code",
      "metadata": {
        "id": "OVlz4n95ZrhM",
        "outputId": "8e04a681-dd9e-461e-eeac-1996a9ee5e30",
        "colab": {
          "base_uri": "https://localhost:8080/"
        }
      },
      "source": [
        "type(inteiro)"
      ],
      "execution_count": null,
      "outputs": [
        {
          "output_type": "execute_result",
          "data": {
            "text/plain": [
              "int"
            ]
          },
          "metadata": {
            "tags": []
          },
          "execution_count": 28
        }
      ]
    },
    {
      "cell_type": "code",
      "metadata": {
        "id": "3WNlXan2Zs82",
        "outputId": "ea6b354c-2db1-4aba-f10e-049efc9e703e",
        "colab": {
          "base_uri": "https://localhost:8080/"
        }
      },
      "source": [
        "type(decimal)"
      ],
      "execution_count": null,
      "outputs": [
        {
          "output_type": "execute_result",
          "data": {
            "text/plain": [
              "float"
            ]
          },
          "metadata": {
            "tags": []
          },
          "execution_count": 29
        }
      ]
    },
    {
      "cell_type": "code",
      "metadata": {
        "id": "qUmn493AZuYd",
        "outputId": "96b6fc53-ef3a-4721-bf09-435fb5ed3262",
        "colab": {
          "base_uri": "https://localhost:8080/"
        }
      },
      "source": [
        "type(texto)"
      ],
      "execution_count": null,
      "outputs": [
        {
          "output_type": "execute_result",
          "data": {
            "text/plain": [
              "str"
            ]
          },
          "metadata": {
            "tags": []
          },
          "execution_count": 30
        }
      ]
    },
    {
      "cell_type": "code",
      "metadata": {
        "id": "6SOD_DODZxfe",
        "outputId": "4baadd2a-aea4-4ba2-8f71-50be36bb8d46",
        "colab": {
          "base_uri": "https://localhost:8080/"
        }
      },
      "source": [
        "type(verdadeiro_falso)"
      ],
      "execution_count": null,
      "outputs": [
        {
          "output_type": "execute_result",
          "data": {
            "text/plain": [
              "bool"
            ]
          },
          "metadata": {
            "tags": []
          },
          "execution_count": 31
        }
      ]
    },
    {
      "cell_type": "code",
      "metadata": {
        "id": "o-9Xh6HgZ0gI",
        "outputId": "de5f3357-1025-4696-90aa-a529d462b597",
        "colab": {
          "base_uri": "https://localhost:8080/",
          "height": 166
        }
      },
      "source": [
        "23 + 'abc'"
      ],
      "execution_count": null,
      "outputs": [
        {
          "output_type": "error",
          "ename": "TypeError",
          "evalue": "ignored",
          "traceback": [
            "\u001b[0;31m---------------------------------------------------------------------------\u001b[0m",
            "\u001b[0;31mTypeError\u001b[0m                                 Traceback (most recent call last)",
            "\u001b[0;32m<ipython-input-32-59d822eef1e9>\u001b[0m in \u001b[0;36m<module>\u001b[0;34m()\u001b[0m\n\u001b[0;32m----> 1\u001b[0;31m \u001b[0;36m23\u001b[0m \u001b[0;34m+\u001b[0m \u001b[0;34m'10'\u001b[0m\u001b[0;34m\u001b[0m\u001b[0;34m\u001b[0m\u001b[0m\n\u001b[0m",
            "\u001b[0;31mTypeError\u001b[0m: unsupported operand type(s) for +: 'int' and 'str'"
          ]
        }
      ]
    },
    {
      "cell_type": "code",
      "metadata": {
        "id": "L56d3m67aHxl"
      },
      "source": [
        "# int  => Inteiros\n",
        "# float => Numeros com virgula\n",
        "# str => Strings (Textos)\n",
        "# bool => Booleanos (Verdadeiro e Falso)\n",
        "\n",
        "texto_10 = '10'\n",
        "numero_20 = 20"
      ],
      "execution_count": null,
      "outputs": []
    },
    {
      "cell_type": "code",
      "metadata": {
        "id": "HoQpWUgmaVpQ",
        "outputId": "f3718a04-cfe3-4dca-8ec2-1728b2fc00d1",
        "colab": {
          "base_uri": "https://localhost:8080/"
        }
      },
      "source": [
        "type(texto_10)"
      ],
      "execution_count": null,
      "outputs": [
        {
          "output_type": "execute_result",
          "data": {
            "text/plain": [
              "str"
            ]
          },
          "metadata": {
            "tags": []
          },
          "execution_count": 34
        }
      ]
    },
    {
      "cell_type": "code",
      "metadata": {
        "id": "QwMC-5shaYkO",
        "outputId": "f369314b-4cf6-4e4b-db8f-c2a16ae17b24",
        "colab": {
          "base_uri": "https://localhost:8080/"
        }
      },
      "source": [
        "type(numero_20)"
      ],
      "execution_count": null,
      "outputs": [
        {
          "output_type": "execute_result",
          "data": {
            "text/plain": [
              "int"
            ]
          },
          "metadata": {
            "tags": []
          },
          "execution_count": 35
        }
      ]
    },
    {
      "cell_type": "code",
      "metadata": {
        "id": "aAGdh6ACaZHZ"
      },
      "source": [
        "numero_10 = int(texto_10)"
      ],
      "execution_count": null,
      "outputs": []
    },
    {
      "cell_type": "code",
      "metadata": {
        "id": "bsK9LQGsakDK",
        "outputId": "7adce25e-4b4d-4e19-a45b-9078cd175085",
        "colab": {
          "base_uri": "https://localhost:8080/"
        }
      },
      "source": [
        "type(numero_10)"
      ],
      "execution_count": null,
      "outputs": [
        {
          "output_type": "execute_result",
          "data": {
            "text/plain": [
              "int"
            ]
          },
          "metadata": {
            "tags": []
          },
          "execution_count": 37
        }
      ]
    },
    {
      "cell_type": "code",
      "metadata": {
        "id": "PXnff0bsan_W"
      },
      "source": [
        "texto_20 = str(numero_20)"
      ],
      "execution_count": null,
      "outputs": []
    },
    {
      "cell_type": "code",
      "metadata": {
        "id": "VZ_zPGoyauHI",
        "outputId": "65028aad-04c5-45d4-9a27-46b6cdf4fd08",
        "colab": {
          "base_uri": "https://localhost:8080/"
        }
      },
      "source": [
        "type(texto_20)"
      ],
      "execution_count": null,
      "outputs": [
        {
          "output_type": "execute_result",
          "data": {
            "text/plain": [
              "str"
            ]
          },
          "metadata": {
            "tags": []
          },
          "execution_count": 40
        }
      ]
    },
    {
      "cell_type": "code",
      "metadata": {
        "id": "tWujllEnaveo"
      },
      "source": [
        "esta_chovendo = True"
      ],
      "execution_count": null,
      "outputs": []
    },
    {
      "cell_type": "code",
      "metadata": {
        "id": "yYgMX4GgbcoB"
      },
      "source": [
        "esta_frio = False"
      ],
      "execution_count": null,
      "outputs": []
    },
    {
      "cell_type": "code",
      "metadata": {
        "id": "mV-SuSxWbiXm"
      },
      "source": [
        "texto = '10'"
      ],
      "execution_count": null,
      "outputs": []
    },
    {
      "cell_type": "code",
      "metadata": {
        "id": "AieGe5SVbq0l"
      },
      "source": [
        "numero = int(texto)"
      ],
      "execution_count": null,
      "outputs": []
    },
    {
      "cell_type": "code",
      "metadata": {
        "id": "g8SS9_Mebtun",
        "outputId": "a59dc7df-18b5-422c-9b90-7e65edc78663",
        "colab": {
          "base_uri": "https://localhost:8080/",
          "height": 183
        }
      },
      "source": [
        "texto = 'asdasdas123'\n",
        "numero= int(texto)"
      ],
      "execution_count": null,
      "outputs": [
        {
          "output_type": "error",
          "ename": "ValueError",
          "evalue": "ignored",
          "traceback": [
            "\u001b[0;31m---------------------------------------------------------------------------\u001b[0m",
            "\u001b[0;31mValueError\u001b[0m                                Traceback (most recent call last)",
            "\u001b[0;32m<ipython-input-45-9ff0443817eb>\u001b[0m in \u001b[0;36m<module>\u001b[0;34m()\u001b[0m\n\u001b[1;32m      1\u001b[0m \u001b[0mtexto\u001b[0m \u001b[0;34m=\u001b[0m \u001b[0;34m'asdasdas123'\u001b[0m\u001b[0;34m\u001b[0m\u001b[0;34m\u001b[0m\u001b[0m\n\u001b[0;32m----> 2\u001b[0;31m \u001b[0mnumero\u001b[0m\u001b[0;34m=\u001b[0m \u001b[0mint\u001b[0m\u001b[0;34m(\u001b[0m\u001b[0mtexto\u001b[0m\u001b[0;34m)\u001b[0m\u001b[0;34m\u001b[0m\u001b[0;34m\u001b[0m\u001b[0m\n\u001b[0m",
            "\u001b[0;31mValueError\u001b[0m: invalid literal for int() with base 10: 'asdasdas123'"
          ]
        }
      ]
    },
    {
      "cell_type": "markdown",
      "metadata": {
        "id": "tLSYg9OMb7T2"
      },
      "source": [
        "# Operações Matemágicas\n",
        "\n",
        "Podemos fazer todas as operações matemáticas facilmente!\n",
        "\n",
        "\n",
        "\n",
        "*   Soma => +\n",
        "*   Subtracao => -\n",
        "*   Multiplicacao => *\n",
        "*   Divisao => /\n",
        "\n"
      ]
    },
    {
      "cell_type": "code",
      "metadata": {
        "id": "Vm2L_LKjb4AX"
      },
      "source": [
        "soma = 10 + 20"
      ],
      "execution_count": null,
      "outputs": []
    },
    {
      "cell_type": "code",
      "metadata": {
        "id": "Hsxe6TAncEDA"
      },
      "source": [
        "subtracao = 20 - 10"
      ],
      "execution_count": null,
      "outputs": []
    },
    {
      "cell_type": "code",
      "metadata": {
        "id": "1ixXfDSScHdc"
      },
      "source": [
        "multiplicacao = 2 * 3 "
      ],
      "execution_count": null,
      "outputs": []
    },
    {
      "cell_type": "code",
      "metadata": {
        "id": "1LTQTiYtcKU1"
      },
      "source": [
        "divisao = 8 / 2"
      ],
      "execution_count": null,
      "outputs": []
    },
    {
      "cell_type": "code",
      "metadata": {
        "id": "Y7P8FPTmcOUW",
        "outputId": "23576345-84ff-4138-db8a-371365c28857",
        "colab": {
          "base_uri": "https://localhost:8080/"
        }
      },
      "source": [
        "soma"
      ],
      "execution_count": null,
      "outputs": [
        {
          "output_type": "execute_result",
          "data": {
            "text/plain": [
              "30"
            ]
          },
          "metadata": {
            "tags": []
          },
          "execution_count": 53
        }
      ]
    },
    {
      "cell_type": "code",
      "metadata": {
        "id": "yRpSI4gKcRvr",
        "outputId": "6f26a111-b89a-4b97-dcb1-568435dc0f8b",
        "colab": {
          "base_uri": "https://localhost:8080/"
        }
      },
      "source": [
        "subtracao"
      ],
      "execution_count": null,
      "outputs": [
        {
          "output_type": "execute_result",
          "data": {
            "text/plain": [
              "10"
            ]
          },
          "metadata": {
            "tags": []
          },
          "execution_count": 54
        }
      ]
    },
    {
      "cell_type": "code",
      "metadata": {
        "id": "JPRcQ4eScTrH",
        "outputId": "5e235cce-e392-46b9-a6ef-15650e3d825b",
        "colab": {
          "base_uri": "https://localhost:8080/"
        }
      },
      "source": [
        "multiplicacao"
      ],
      "execution_count": null,
      "outputs": [
        {
          "output_type": "execute_result",
          "data": {
            "text/plain": [
              "6"
            ]
          },
          "metadata": {
            "tags": []
          },
          "execution_count": 55
        }
      ]
    },
    {
      "cell_type": "code",
      "metadata": {
        "id": "Ad5Q2QgpcVb2",
        "outputId": "700be7f7-f8dc-45dd-ade3-49f7909dce71",
        "colab": {
          "base_uri": "https://localhost:8080/"
        }
      },
      "source": [
        "divisao"
      ],
      "execution_count": null,
      "outputs": [
        {
          "output_type": "execute_result",
          "data": {
            "text/plain": [
              "4.0"
            ]
          },
          "metadata": {
            "tags": []
          },
          "execution_count": 56
        }
      ]
    },
    {
      "cell_type": "code",
      "metadata": {
        "id": "cVktYVxRcWru"
      },
      "source": [
        "primeiro_numero = 20\n",
        "segundo_numero = 30\n",
        "terceiro_numero = 10\n",
        "quarto_numero = 5\n",
        "\n",
        "valor_final = (primeiro_numero + segundo_numero - terceiro_numero) / quarto_numero"
      ],
      "execution_count": null,
      "outputs": []
    },
    {
      "cell_type": "code",
      "metadata": {
        "id": "ixcGLQYocyxt",
        "outputId": "d0b721e7-3bec-44d7-edb2-f3f5410edc62",
        "colab": {
          "base_uri": "https://localhost:8080/"
        }
      },
      "source": [
        "valor_final"
      ],
      "execution_count": null,
      "outputs": [
        {
          "output_type": "execute_result",
          "data": {
            "text/plain": [
              "8.0"
            ]
          },
          "metadata": {
            "tags": []
          },
          "execution_count": 58
        }
      ]
    },
    {
      "cell_type": "markdown",
      "metadata": {
        "id": "Akg9-MGodERh"
      },
      "source": [
        "# Métodos de Entrada\n",
        "\n",
        "São formas de enviar valores para o Python\n",
        "\n",
        "Usamos a função *input()* e enviamos uma mensagem (string)"
      ]
    },
    {
      "cell_type": "code",
      "metadata": {
        "id": "EHzkbT_rc0OF",
        "outputId": "15be7138-6f0f-4872-adb5-68a239cf2255",
        "colab": {
          "base_uri": "https://localhost:8080/"
        }
      },
      "source": [
        "nome = input('Insira seu nome: ')"
      ],
      "execution_count": null,
      "outputs": [
        {
          "output_type": "stream",
          "text": [
            "Insira seu nome: Felipe\n"
          ],
          "name": "stdout"
        }
      ]
    },
    {
      "cell_type": "code",
      "metadata": {
        "id": "xrB1tRY0dPF7",
        "outputId": "e25fd5ab-09f8-4c51-f29a-23f8683348b9",
        "colab": {
          "base_uri": "https://localhost:8080/",
          "height": 35
        }
      },
      "source": [
        "nome"
      ],
      "execution_count": null,
      "outputs": [
        {
          "output_type": "execute_result",
          "data": {
            "application/vnd.google.colaboratory.intrinsic+json": {
              "type": "string"
            },
            "text/plain": [
              "'Felipe'"
            ]
          },
          "metadata": {
            "tags": []
          },
          "execution_count": 60
        }
      ]
    },
    {
      "cell_type": "code",
      "metadata": {
        "id": "K1LO5G4HdR0_",
        "outputId": "ea3481fe-0347-49dd-f468-f0d1e3a5b78e",
        "colab": {
          "base_uri": "https://localhost:8080/"
        }
      },
      "source": [
        "idade = input('Insira sua idade: ')"
      ],
      "execution_count": null,
      "outputs": [
        {
          "output_type": "stream",
          "text": [
            "Insira sua idade: 23\n"
          ],
          "name": "stdout"
        }
      ]
    },
    {
      "cell_type": "code",
      "metadata": {
        "id": "JvPTuoJmdgR5",
        "outputId": "661150df-bbe6-4934-c95f-4ff88ab1a10a",
        "colab": {
          "base_uri": "https://localhost:8080/",
          "height": 35
        }
      },
      "source": [
        "idade"
      ],
      "execution_count": null,
      "outputs": [
        {
          "output_type": "execute_result",
          "data": {
            "application/vnd.google.colaboratory.intrinsic+json": {
              "type": "string"
            },
            "text/plain": [
              "'23'"
            ]
          },
          "metadata": {
            "tags": []
          },
          "execution_count": 64
        }
      ]
    },
    {
      "cell_type": "code",
      "metadata": {
        "id": "UAGbOgnldk3t",
        "outputId": "a7f9f33b-62b4-424a-a207-a0cd700534ef",
        "colab": {
          "base_uri": "https://localhost:8080/"
        }
      },
      "source": [
        "type(idade)"
      ],
      "execution_count": null,
      "outputs": [
        {
          "output_type": "execute_result",
          "data": {
            "text/plain": [
              "str"
            ]
          },
          "metadata": {
            "tags": []
          },
          "execution_count": 65
        }
      ]
    },
    {
      "cell_type": "code",
      "metadata": {
        "id": "boW_R767dqA8",
        "outputId": "ee750895-2e5d-4c64-c3cb-1615b26ffc2c",
        "colab": {
          "base_uri": "https://localhost:8080/"
        }
      },
      "source": [
        "hitman = input('Insira seu nome')"
      ],
      "execution_count": null,
      "outputs": [
        {
          "output_type": "stream",
          "text": [
            "Insira seu nome47\n"
          ],
          "name": "stdout"
        }
      ]
    },
    {
      "cell_type": "code",
      "metadata": {
        "id": "r89PaP0Rd2kd",
        "outputId": "a453690c-6d08-40c0-f13c-b0fa9ebaea8b",
        "colab": {
          "base_uri": "https://localhost:8080/",
          "height": 35
        }
      },
      "source": [
        "hitman"
      ],
      "execution_count": null,
      "outputs": [
        {
          "output_type": "execute_result",
          "data": {
            "application/vnd.google.colaboratory.intrinsic+json": {
              "type": "string"
            },
            "text/plain": [
              "'47'"
            ]
          },
          "metadata": {
            "tags": []
          },
          "execution_count": 67
        }
      ]
    },
    {
      "cell_type": "code",
      "metadata": {
        "id": "JQPprUvLd47f",
        "outputId": "97172390-7177-4c70-8e49-ccc6eda3ee00",
        "colab": {
          "base_uri": "https://localhost:8080/"
        }
      },
      "source": [
        "idade = int(input('Insira sua idade: '))"
      ],
      "execution_count": null,
      "outputs": [
        {
          "output_type": "stream",
          "text": [
            "Insira sua idade: 23\n"
          ],
          "name": "stdout"
        }
      ]
    },
    {
      "cell_type": "code",
      "metadata": {
        "id": "YMr2ASoxeIYW",
        "outputId": "dd52b7c6-1bc4-4006-9613-7c6a4a69a842",
        "colab": {
          "base_uri": "https://localhost:8080/"
        }
      },
      "source": [
        "idade"
      ],
      "execution_count": null,
      "outputs": [
        {
          "output_type": "execute_result",
          "data": {
            "text/plain": [
              "23"
            ]
          },
          "metadata": {
            "tags": []
          },
          "execution_count": 69
        }
      ]
    },
    {
      "cell_type": "code",
      "metadata": {
        "id": "Ys3m2BV7eJoI",
        "outputId": "45ec9a36-3e74-4e6e-ca9d-3d2cb66b9da5",
        "colab": {
          "base_uri": "https://localhost:8080/"
        }
      },
      "source": [
        "type(23)"
      ],
      "execution_count": null,
      "outputs": [
        {
          "output_type": "execute_result",
          "data": {
            "text/plain": [
              "int"
            ]
          },
          "metadata": {
            "tags": []
          },
          "execution_count": 70
        }
      ]
    },
    {
      "cell_type": "markdown",
      "metadata": {
        "id": "XYSb9hWJegTh"
      },
      "source": [
        "# Metódos Saida\n",
        "\n",
        "Mostrar um valor/mensagem para o usuário"
      ]
    },
    {
      "cell_type": "code",
      "metadata": {
        "id": "k5cdrDY6eK-o",
        "outputId": "23a8d1f3-4746-465d-90ea-d8d76a91ab30",
        "colab": {
          "base_uri": "https://localhost:8080/"
        }
      },
      "source": [
        "primeiro_numero = 10\n",
        "segundo_numero = 20\n",
        "\n",
        "soma = primeiro_numero + segundo_numero\n",
        "\n",
        "print('O valor da soma é de', soma)"
      ],
      "execution_count": null,
      "outputs": [
        {
          "output_type": "stream",
          "text": [
            "O valor da soma é de 30\n"
          ],
          "name": "stdout"
        }
      ]
    },
    {
      "cell_type": "code",
      "metadata": {
        "id": "4dumhRA4e8XZ",
        "outputId": "130b9dec-0e64-4ee5-8d7a-4b0a2ad4f42a",
        "colab": {
          "base_uri": "https://localhost:8080/"
        }
      },
      "source": [
        "nome = input('Insira o seu nome: ')\n",
        "idade = int(input('Insira sua idade: '))\n",
        "\n",
        "print('O', nome, 'tem', idade, 'anos')"
      ],
      "execution_count": null,
      "outputs": [
        {
          "output_type": "stream",
          "text": [
            "Insira o seu nome: Felipe\n",
            "Insira sua idade: 23\n",
            "O Felipe tem 23 anos\n"
          ],
          "name": "stdout"
        }
      ]
    },
    {
      "cell_type": "code",
      "metadata": {
        "id": "to11kwbufHlk",
        "outputId": "a31fcd23-d46a-499c-800c-e821e8239f9c",
        "colab": {
          "base_uri": "https://localhost:8080/"
        }
      },
      "source": [
        "print('Seja bem vindo a minha calculadora de multiplicação!')\n",
        "\n",
        "valor1 = float(input('Insira o seu primeiro numero: '))\n",
        "valor2 = float(input('Insira o seu segundo numero: '))\n",
        "\n",
        "multiplicacao = valor1 * valor2 \n",
        "\n",
        "print('O resultado da multiplicação entre', valor1, 'e', valor2, 'é de', multiplicacao)"
      ],
      "execution_count": null,
      "outputs": [
        {
          "output_type": "stream",
          "text": [
            "Seja bem vindo a minha calculadora de multiplicação!\n",
            "Insira o seu primeiro numero: 10\n",
            "Insira o seu segundo numero: 20\n",
            "O resultado da multiplicação entre 10.0 e 20.0 é de 200.0\n"
          ],
          "name": "stdout"
        }
      ]
    },
    {
      "cell_type": "code",
      "metadata": {
        "id": "Z7OOwkxifoFv"
      },
      "source": [
        "lista_animais = ['Cachorro', 'Gato', 'Coelho', 'Furão', 'Pássaro', 'Peixe']\n",
        "# Posição            1         2        3         4         5         6\n",
        "# Indice             0         1        2         3         4         5"
      ],
      "execution_count": null,
      "outputs": []
    },
    {
      "cell_type": "code",
      "metadata": {
        "id": "99uCLMn8ibab"
      },
      "source": [
        "furao = lista_animais[3]\n",
        "gato = lista_animais[1]"
      ],
      "execution_count": null,
      "outputs": []
    },
    {
      "cell_type": "code",
      "metadata": {
        "id": "Dv1lt8RlitQP",
        "outputId": "850bb019-4142-4d33-9fef-868cce1d939f",
        "colab": {
          "base_uri": "https://localhost:8080/"
        }
      },
      "source": [
        "print('A Shura é uma', furao)\n",
        "print('O Doctor é um', gato)"
      ],
      "execution_count": null,
      "outputs": [
        {
          "output_type": "stream",
          "text": [
            "A Shura é uma Furão\n",
            "O Doctor é um Gato\n"
          ],
          "name": "stdout"
        }
      ]
    },
    {
      "cell_type": "code",
      "metadata": {
        "id": "m3A2gb7ki1Mc"
      },
      "source": [
        ""
      ],
      "execution_count": null,
      "outputs": []
    }
  ]
}